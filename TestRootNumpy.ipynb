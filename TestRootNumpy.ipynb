{
 "cells": [
  {
   "cell_type": "code",
   "execution_count": 41,
   "metadata": {},
   "outputs": [],
   "source": [
    "import numpy      as     np\n",
    "import pandas     as     pd\n",
    "from   root_numpy import root2array, tree2array"
   ]
  },
  {
   "cell_type": "code",
   "execution_count": 74,
   "metadata": {
    "scrolled": true
   },
   "outputs": [
    {
     "name": "stdout",
     "output_type": "stream",
     "text": [
      "('jet_pt', 'jet_eta', 'jet_phi', 'm4top')\n",
      "(1000,)\n"
     ]
    },
    {
     "data": {
      "text/html": [
       "<div>\n",
       "<style>\n",
       "    .dataframe thead tr:only-child th {\n",
       "        text-align: right;\n",
       "    }\n",
       "\n",
       "    .dataframe thead th {\n",
       "        text-align: left;\n",
       "    }\n",
       "\n",
       "    .dataframe tbody tr th {\n",
       "        vertical-align: top;\n",
       "    }\n",
       "</style>\n",
       "<table border=\"1\" class=\"dataframe\">\n",
       "  <thead>\n",
       "    <tr style=\"text-align: right;\">\n",
       "      <th></th>\n",
       "      <th>jet_pt</th>\n",
       "      <th>jet_eta</th>\n",
       "      <th>jet_phi</th>\n",
       "      <th>m4top</th>\n",
       "    </tr>\n",
       "  </thead>\n",
       "  <tbody>\n",
       "    <tr>\n",
       "      <th>0</th>\n",
       "      <td>[433.24778125, 280.0488125, 191.256359375, 147...</td>\n",
       "      <td>[0.000541657149792, 0.00108203589916, -0.00036...</td>\n",
       "      <td>[-0.00116388010979, 0.0027625207901, 0.0008389...</td>\n",
       "      <td>2067.372907</td>\n",
       "    </tr>\n",
       "    <tr>\n",
       "      <th>1</th>\n",
       "      <td>[456.5780625, 343.0471875, 192.62834375, 132.6...</td>\n",
       "      <td>[0.00117758977413, 0.000923700988293, 0.000256...</td>\n",
       "      <td>[0.00164446413517, -0.00149145817757, -0.00110...</td>\n",
       "      <td>1589.237054</td>\n",
       "    </tr>\n",
       "    <tr>\n",
       "      <th>2</th>\n",
       "      <td>[462.918625, 289.6720625, 215.518390625, 128.9...</td>\n",
       "      <td>[0.000251039475203, -0.000930843889713, -0.001...</td>\n",
       "      <td>[-0.000981613874435, 0.00148152184486, 0.00180...</td>\n",
       "      <td>2763.344954</td>\n",
       "    </tr>\n",
       "    <tr>\n",
       "      <th>3</th>\n",
       "      <td>[99.019546875, 89.8759296875, 69.1471875, 54.1...</td>\n",
       "      <td>[-0.000432023793459, -0.00030545642972, -0.000...</td>\n",
       "      <td>[-0.00271167898178, -0.00118455302715, 0.00196...</td>\n",
       "      <td>1313.491707</td>\n",
       "    </tr>\n",
       "    <tr>\n",
       "      <th>4</th>\n",
       "      <td>[276.382125, 241.245078125, 203.3856875, 183.2...</td>\n",
       "      <td>[0.00152037405968, -0.000889150619507, 0.00189...</td>\n",
       "      <td>[-0.00139445447922, 0.00114956760406, 0.002062...</td>\n",
       "      <td>2330.860740</td>\n",
       "    </tr>\n",
       "  </tbody>\n",
       "</table>\n",
       "</div>"
      ],
      "text/plain": [
       "                                              jet_pt  \\\n",
       "0  [433.24778125, 280.0488125, 191.256359375, 147...   \n",
       "1  [456.5780625, 343.0471875, 192.62834375, 132.6...   \n",
       "2  [462.918625, 289.6720625, 215.518390625, 128.9...   \n",
       "3  [99.019546875, 89.8759296875, 69.1471875, 54.1...   \n",
       "4  [276.382125, 241.245078125, 203.3856875, 183.2...   \n",
       "\n",
       "                                             jet_eta  \\\n",
       "0  [0.000541657149792, 0.00108203589916, -0.00036...   \n",
       "1  [0.00117758977413, 0.000923700988293, 0.000256...   \n",
       "2  [0.000251039475203, -0.000930843889713, -0.001...   \n",
       "3  [-0.000432023793459, -0.00030545642972, -0.000...   \n",
       "4  [0.00152037405968, -0.000889150619507, 0.00189...   \n",
       "\n",
       "                                             jet_phi        m4top  \n",
       "0  [-0.00116388010979, 0.0027625207901, 0.0008389...  2067.372907  \n",
       "1  [0.00164446413517, -0.00149145817757, -0.00110...  1589.237054  \n",
       "2  [-0.000981613874435, 0.00148152184486, 0.00180...  2763.344954  \n",
       "3  [-0.00271167898178, -0.00118455302715, 0.00196...  1313.491707  \n",
       "4  [-0.00139445447922, 0.00114956760406, 0.002062...  2330.860740  "
      ]
     },
     "execution_count": 74,
     "metadata": {},
     "output_type": "execute_result"
    }
   ],
   "source": [
    "data = root2array('MCtruth_4topCI.root')\n",
    "print(data.dtype.names)\n",
    "print(data.shape)\n",
    "\n",
    "df = pd.DataFrame(data)\n",
    "df.head()"
   ]
  },
  {
   "cell_type": "code",
   "execution_count": 67,
   "metadata": {},
   "outputs": [
    {
     "ename": "AttributeError",
     "evalue": "'numpy.ndarray' object has no attribute '_get_numeric_data'",
     "output_type": "error",
     "traceback": [
      "\u001b[0;31m\u001b[0m",
      "\u001b[0;31mAttributeError\u001b[0mTraceback (most recent call last)",
      "\u001b[0;32m<ipython-input-67-7884c9ecc2e8>\u001b[0m in \u001b[0;36m<module>\u001b[0;34m()\u001b[0m\n\u001b[0;32m----> 1\u001b[0;31m \u001b[0mpd\u001b[0m\u001b[0;34m.\u001b[0m\u001b[0mplotting\u001b[0m\u001b[0;34m.\u001b[0m\u001b[0mscatter_matrix\u001b[0m\u001b[0;34m(\u001b[0m\u001b[0mdata\u001b[0m\u001b[0;34m,\u001b[0m \u001b[0mfigsize\u001b[0m\u001b[0;34m=\u001b[0m\u001b[0;34m(\u001b[0m\u001b[0;36m12\u001b[0m\u001b[0;34m,\u001b[0m\u001b[0;36m12\u001b[0m\u001b[0;34m)\u001b[0m\u001b[0;34m,\u001b[0m \u001b[0malpha\u001b[0m\u001b[0;34m=\u001b[0m\u001b[0;36m0.7\u001b[0m\u001b[0;34m,\u001b[0m \u001b[0mdiagonal\u001b[0m\u001b[0;34m=\u001b[0m\u001b[0;34m'hist'\u001b[0m\u001b[0;34m)\u001b[0m\u001b[0;34m\u001b[0m\u001b[0m\n\u001b[0m\u001b[1;32m      2\u001b[0m \u001b[0mplt\u001b[0m\u001b[0;34m.\u001b[0m\u001b[0mtight_layout\u001b[0m\u001b[0;34m(\u001b[0m\u001b[0;34m)\u001b[0m\u001b[0;34m\u001b[0m\u001b[0m\n\u001b[1;32m      3\u001b[0m \u001b[0mplt\u001b[0m\u001b[0;34m.\u001b[0m\u001b[0mdraw\u001b[0m\u001b[0;34m(\u001b[0m\u001b[0;34m)\u001b[0m\u001b[0;34m\u001b[0m\u001b[0m\n",
      "\u001b[0;32m/usr/local/lib/python2.7/dist-packages/pandas/plotting/_misc.pyc\u001b[0m in \u001b[0;36mscatter_matrix\u001b[0;34m(frame, alpha, figsize, ax, grid, diagonal, marker, density_kwds, hist_kwds, range_padding, **kwds)\u001b[0m\n\u001b[1;32m     54\u001b[0m     \"\"\"\n\u001b[1;32m     55\u001b[0m \u001b[0;34m\u001b[0m\u001b[0m\n\u001b[0;32m---> 56\u001b[0;31m     \u001b[0mdf\u001b[0m \u001b[0;34m=\u001b[0m \u001b[0mframe\u001b[0m\u001b[0;34m.\u001b[0m\u001b[0m_get_numeric_data\u001b[0m\u001b[0;34m(\u001b[0m\u001b[0;34m)\u001b[0m\u001b[0;34m\u001b[0m\u001b[0m\n\u001b[0m\u001b[1;32m     57\u001b[0m     \u001b[0mn\u001b[0m \u001b[0;34m=\u001b[0m \u001b[0mdf\u001b[0m\u001b[0;34m.\u001b[0m\u001b[0mcolumns\u001b[0m\u001b[0;34m.\u001b[0m\u001b[0msize\u001b[0m\u001b[0;34m\u001b[0m\u001b[0m\n\u001b[1;32m     58\u001b[0m     \u001b[0mnaxes\u001b[0m \u001b[0;34m=\u001b[0m \u001b[0mn\u001b[0m \u001b[0;34m*\u001b[0m \u001b[0mn\u001b[0m\u001b[0;34m\u001b[0m\u001b[0m\n",
      "\u001b[0;31mAttributeError\u001b[0m: 'numpy.ndarray' object has no attribute '_get_numeric_data'"
     ]
    }
   ],
   "source": [
    "pd.plotting.scatter_matrix(data, figsize=(12,12), alpha=0.7, diagonal='hist')\n",
    "plt.tight_layout()\n",
    "plt.draw()"
   ]
  },
  {
   "cell_type": "code",
   "execution_count": null,
   "metadata": {
    "collapsed": true
   },
   "outputs": [],
   "source": []
  }
 ],
 "metadata": {
  "kernelspec": {
   "display_name": "Python 2",
   "language": "python",
   "name": "python2"
  },
  "language_info": {
   "codemirror_mode": {
    "name": "ipython",
    "version": 2
   },
   "file_extension": ".py",
   "mimetype": "text/x-python",
   "name": "python",
   "nbconvert_exporter": "python",
   "pygments_lexer": "ipython2",
   "version": "2.7.12"
  }
 },
 "nbformat": 4,
 "nbformat_minor": 2
}
